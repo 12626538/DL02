{
 "cells": [
  {
   "cell_type": "code",
   "execution_count": 4,
   "metadata": {},
   "outputs": [],
   "source": [
    "import os, sys\n",
    "import numpy as np"
   ]
  },
  {
   "attachments": {},
   "cell_type": "markdown",
   "metadata": {},
   "source": [
    "## Obtaining reproduction results\n",
    "We can test the performance of trained models by loading the weights that gave the best performance whilst training. NOTE: the complete dataset needs to be available if you intend to obtain metrics for every task."
   ]
  },
  {
   "cell_type": "code",
   "execution_count": 5,
   "metadata": {},
   "outputs": [],
   "source": [
    "# !! Change the path to the reproduced model weights and data respectively\n",
    "EXEC = '../src/run_atom3d.py'\n",
    "MODEL_DIR = '../src/reproduced_models/'\n",
    "DATA_DIR = '../atom3d-data/'"
   ]
  },
  {
   "attachments": {},
   "cell_type": "markdown",
   "metadata": {},
   "source": [
    "#### LBA with split=30"
   ]
  },
  {
   "cell_type": "code",
   "execution_count": 6,
   "metadata": {},
   "outputs": [
    {
     "name": "stderr",
     "output_type": "stream",
     "text": [
      "Traceback (most recent call last):\n",
      "  File \"/home/zjos/Documents/Master/DL02/demos/../src/run_atom3d.py\", line 54, in <module>\n",
      "    import gvp\n",
      "ModuleNotFoundError: No module named 'gvp'\n"
     ]
    },
    {
     "ename": "IndexError",
     "evalue": "list index out of range",
     "output_type": "error",
     "traceback": [
      "\u001b[0;31m---------------------------------------------------------------------------\u001b[0m",
      "\u001b[0;31mIndexError\u001b[0m                                Traceback (most recent call last)",
      "Cell \u001b[0;32mIn[6], line 1\u001b[0m\n\u001b[0;32m----> 1\u001b[0m LBA_1 \u001b[39m=\u001b[39m \u001b[39mfloat\u001b[39m(os\u001b[39m.\u001b[39;49mpopen(\u001b[39mf\u001b[39;49m\u001b[39m'\u001b[39;49m\u001b[39mpython \u001b[39;49m\u001b[39m{\u001b[39;49;00mEXEC\u001b[39m}\u001b[39;49;00m\u001b[39m LBA --test \u001b[39;49m\u001b[39m{\u001b[39;49;00mMODEL_DIR\u001b[39m}\u001b[39;49;00m\u001b[39mLBA_lba-split=30_47.pt --lba-split 30 --data \u001b[39;49m\u001b[39m{\u001b[39;49;00mDATA_DIR\u001b[39m}\u001b[39;49;00m\u001b[39m --no-pbar\u001b[39;49m\u001b[39m'\u001b[39;49m)\u001b[39m.\u001b[39;49mread()\u001b[39m.\u001b[39;49msplit()[\u001b[39m-\u001b[39;49m\u001b[39m1\u001b[39;49m])\n\u001b[1;32m      2\u001b[0m LBA_2 \u001b[39m=\u001b[39m \u001b[39mfloat\u001b[39m(os\u001b[39m.\u001b[39mpopen(\u001b[39mf\u001b[39m\u001b[39m'\u001b[39m\u001b[39mpython \u001b[39m\u001b[39m{\u001b[39;00mEXEC\u001b[39m}\u001b[39;00m\u001b[39m LBA --test \u001b[39m\u001b[39m{\u001b[39;00mMODEL_DIR\u001b[39m}\u001b[39;00m\u001b[39mLBA_lba-split=30_48_run2.pt --lba-split 30 --data \u001b[39m\u001b[39m{\u001b[39;00mDATA_DIR\u001b[39m}\u001b[39;00m\u001b[39m --no-pbar\u001b[39m\u001b[39m'\u001b[39m)\u001b[39m.\u001b[39mread()\u001b[39m.\u001b[39msplit()[\u001b[39m-\u001b[39m\u001b[39m1\u001b[39m])\n\u001b[1;32m      3\u001b[0m LBA_3 \u001b[39m=\u001b[39m \u001b[39mfloat\u001b[39m(os\u001b[39m.\u001b[39mpopen(\u001b[39mf\u001b[39m\u001b[39m'\u001b[39m\u001b[39mpython \u001b[39m\u001b[39m{\u001b[39;00mEXEC\u001b[39m}\u001b[39;00m\u001b[39m LBA --test \u001b[39m\u001b[39m{\u001b[39;00mMODEL_DIR\u001b[39m}\u001b[39;00m\u001b[39mLBA_lba-split=30_49_run3.pt --lba-split 30 --data \u001b[39m\u001b[39m{\u001b[39;00mDATA_DIR\u001b[39m}\u001b[39;00m\u001b[39m --no-pbar\u001b[39m\u001b[39m'\u001b[39m)\u001b[39m.\u001b[39mread()\u001b[39m.\u001b[39msplit()[\u001b[39m-\u001b[39m\u001b[39m1\u001b[39m])\n",
      "\u001b[0;31mIndexError\u001b[0m: list index out of range"
     ]
    }
   ],
   "source": [
    "LBA_1 = float(os.popen(f'python {EXEC} LBA --test {MODEL_DIR}LBA_lba-split=30_47.pt --lba-split 30 --data {DATA_DIR} --no-pbar').read().split()[-1])\n",
    "LBA_2 = float(os.popen(f'python {EXEC} LBA --test {MODEL_DIR}LBA_lba-split=30_48_run2.pt --lba-split 30 --data {DATA_DIR} --no-pbar').read().split()[-1])\n",
    "LBA_3 = float(os.popen(f'python {EXEC} LBA --test {MODEL_DIR}LBA_lba-split=30_49_run3.pt --lba-split 30 --data {DATA_DIR} --no-pbar').read().split()[-1])\n",
    "\n",
    "print('Obtained RMSE-values:\\n', LBA_1, LBA_2, LBA_3)\n",
    "print('\\nMean:\\n', np.mean([LBA_1, LBA_2, LBA_3]))\n",
    "print('\\nStandard Deviation:\\n', np.std([LBA_1, LBA_2, LBA_3], ddof=1))"
   ]
  },
  {
   "attachments": {},
   "cell_type": "markdown",
   "metadata": {},
   "source": [
    "#### LBA with split=60"
   ]
  },
  {
   "cell_type": "code",
   "execution_count": null,
   "metadata": {},
   "outputs": [],
   "source": [
    "LBA60_1 = float(os.popen(f'python {EXEC} LBA --test {MODEL_DIR}LBA_lba-split=60_49.pt --lba-split 60 --data {DATA_DIR} --no-pbar').read().split()[-1])\n",
    "LBA60_2 = float(os.popen(f'python {EXEC} LBA --test {MODEL_DIR}LBA_lba-split=60_49_run2.pt --lba-split 60 --data {DATA_DIR} --no-pbar').read().split()[-1])\n",
    "LBA60_3 = float(os.popen(f'python {EXEC} LBA --test {MODEL_DIR}LBA_lba-split=60_49_run3.pt --lba-split 60 --data {DATA_DIR} --no-pbar').read().split()[-1])\n",
    "\n",
    "print('Obtained RMSE-values:\\n', LBA60_1, LBA60_2, LBA60_3)\n",
    "print('\\nMean:\\n', np.mean([LBA60_1, LBA60_2, LBA60_3]))\n",
    "print('\\nStandard Deviation:\\n', np.std([LBA60_1, LBA60_2, LBA60_3], ddof=1))"
   ]
  },
  {
   "attachments": {},
   "cell_type": "markdown",
   "metadata": {},
   "source": [
    "#### SMP"
   ]
  },
  {
   "cell_type": "code",
   "execution_count": null,
   "metadata": {},
   "outputs": [],
   "source": [
    "print('Obtained reproduced results for remaining tasks')\n",
    "\n",
    "SMP_idx3 = os.popen(f'python {EXEC} SMP --test {MODEL_DIR}SMP_smp-idx=3_46.pt --smp-idx 3 --data {DATA_DIR} --no-pbar').read()\n",
    "SMP_idx7 = os.popen(f'python {EXEC} SMP --test {MODEL_DIR}SMP_smp-idx=7_48.pt --smp-idx 7 --data {DATA_DIR} --no-pbar').read()\n",
    "SMP_idx15 = os.popen(f'python {EXEC} SMP --test {MODEL_DIR}SMP_smp-idx=15_48.pt --smp-idx 15 --data {DATA_DIR} --no-pbar').read()"
   ]
  },
  {
   "attachments": {},
   "cell_type": "markdown",
   "metadata": {},
   "source": [
    "#### SMP, PSR, RSR, and RES"
   ]
  },
  {
   "cell_type": "code",
   "execution_count": null,
   "metadata": {},
   "outputs": [],
   "source": [
    "MSP = os.popen(f'python {EXEC} MSP --test {MODEL_DIR}MSP_batch1_epochs6.pt --data {DATA_DIR} --no-pbar').read()\n",
    "\n",
    "PSR = os.popen(f'python {EXEC} PSR --test {MODEL_DIR}PSR_45.pt --data {DATA_DIR} --no-pbar').read()\n",
    "\n",
    "RSR = os.popen(f'python {EXEC} RSR --test {MODEL_DIR}RSR_0.pt --data {DATA_DIR} --no-pbar').read()\n",
    "\n",
    "RES = os.popen(f'python {EXEC} RES --test {MODEL_DIR}RES_22.pt --data {DATA_DIR} --no-pbar').read()"
   ]
  },
  {
   "attachments": {},
   "cell_type": "markdown",
   "metadata": {},
   "source": [
    "## Obtaining results for the Steerable MLP variant"
   ]
  },
  {
   "cell_type": "code",
   "execution_count": null,
   "metadata": {},
   "outputs": [],
   "source": [
    "# !! Change the path to the sMLP model weights and file respectively\n",
    "EXEC = '../src/run_sMLP.py'\n",
    "MODEL_DIR = '../src/sMLPmodels/'"
   ]
  },
  {
   "attachments": {},
   "cell_type": "markdown",
   "metadata": {},
   "source": [
    "#### LBA split=30"
   ]
  },
  {
   "cell_type": "code",
   "execution_count": null,
   "metadata": {},
   "outputs": [],
   "source": [
    "LBA_1 = float(os.popen(f'python {EXEC} LBA --test {MODEL_DIR}LBA-lba_split=30-epoch=10.ckpt --lba-split 30 --data {DATA_DIR}').read().split()[-1])\n",
    "LBA_2 = float(os.popen(f'python {EXEC} LBA --test {MODEL_DIR}LBA-lba_split=30-epoch=22_run2.ckpt --lba-split 30 --data {DATA_DIR}').read().split()[-1])\n",
    "LBA_3 = float(os.popen(f'python {EXEC} LBA --test {MODEL_DIR}LBA-lba_split=30-epoch=03_run3.ckpt --lba-split 30 --data {DATA_DIR}').read().split()[-1])\n",
    "\n",
    "print('Obtained RMSE-values:\\n', LBA_1, LBA_2, LBA_3)\n",
    "print('\\nMean:\\n', np.mean([LBA_1, LBA_2, LBA_3]))\n",
    "print('\\nStandard Deviation:\\n', np.std([LBA_1, LBA_2, LBA_3], ddof=1))"
   ]
  },
  {
   "attachments": {},
   "cell_type": "markdown",
   "metadata": {},
   "source": [
    "#### LBA split=60"
   ]
  },
  {
   "cell_type": "code",
   "execution_count": null,
   "metadata": {},
   "outputs": [],
   "source": [
    "LBA60_1 = float(os.popen(f'python {EXEC} LBA --test {MODEL_DIR}LBA_lba-split=60_49.pt --lba-split 60 --data {DATA_DIR} --no-pbar').read().split()[-1])\n",
    "LBA60_2 = float(os.popen(f'python {EXEC} LBA --test {MODEL_DIR}LBA_lba-split=60_49_run2.pt --lba-split 60 --data {DATA_DIR} --no-pbar').read().split()[-1])\n",
    "LBA60_3 = float(os.popen(f'python {EXEC} LBA --test {MODEL_DIR}LBA_lba-split=60_49_run3.pt --lba-split 60 --data {DATA_DIR} --no-pbar').read().split()[-1])\n",
    "\n",
    "print('Obtained RMSE-values:\\n', LBA60_1, LBA60_2, LBA60_3)\n",
    "print('\\nMean:\\n', np.mean([LBA60_1, LBA60_2, LBA60_3]))"
   ]
  },
  {
   "attachments": {},
   "cell_type": "markdown",
   "metadata": {},
   "source": [
    "### With additional dense layers"
   ]
  },
  {
   "attachments": {},
   "cell_type": "markdown",
   "metadata": {},
   "source": [
    "#### LBA split=30"
   ]
  },
  {
   "cell_type": "code",
   "execution_count": null,
   "metadata": {},
   "outputs": [],
   "source": [
    "LBA_1 = float(os.popen(f'python {EXEC} LBA --test {MODEL_DIR}LBA-lba_split=30-epoch=10.ckpt --lba-split 30 --data {DATA_DIR}').read().split()[-1])\n",
    "LBA_2 = float(os.popen(f'python {EXEC} LBA --test {MODEL_DIR}LBA-lba_split=30-epoch=22_run2.ckpt --lba-split 30 --data {DATA_DIR}').read().split()[-1])\n",
    "LBA_3 = float(os.popen(f'python {EXEC} LBA --test {MODEL_DIR}LBA-lba_split=30-epoch=03_run3.ckpt --lba-split 30 --data {DATA_DIR}').read().split()[-1])\n",
    "\n",
    "print('Obtained RMSE-values:\\n', LBA_1, LBA_2, LBA_3)\n",
    "print('\\nMean:\\n', np.mean([LBA_1, LBA_2, LBA_3]))\n",
    "print('\\nStandard Deviation:\\n', np.std([LBA_1, LBA_2, LBA_3], ddof=1))"
   ]
  },
  {
   "attachments": {},
   "cell_type": "markdown",
   "metadata": {},
   "source": [
    "#### LBA split=60"
   ]
  },
  {
   "cell_type": "code",
   "execution_count": null,
   "metadata": {},
   "outputs": [],
   "source": [
    "LBA60_1 = float(os.popen(f'python {EXEC} LBA --test {MODEL_DIR}LBA_lba-split=60_49.pt --lba-split 60 --data {DATA_DIR} --no-pbar').read().split()[-1])\n",
    "LBA60_2 = float(os.popen(f'python {EXEC} LBA --test {MODEL_DIR}LBA_lba-split=60_49_run2.pt --lba-split 60 --data {DATA_DIR} --no-pbar').read().split()[-1])\n",
    "LBA60_3 = float(os.popen(f'python {EXEC} LBA --test {MODEL_DIR}LBA_lba-split=60_49_run3.pt --lba-split 60 --data {DATA_DIR} --no-pbar').read().split()[-1])\n",
    "\n",
    "print('Obtained RMSE-values:\\n', LBA60_1, LBA60_2, LBA60_3)\n",
    "print('\\nMean:\\n', np.mean([LBA60_1, LBA60_2, LBA60_3]))"
   ]
  }
 ],
 "metadata": {
  "kernelspec": {
   "display_name": "gvp",
   "language": "python",
   "name": "python3"
  },
  "language_info": {
   "codemirror_mode": {
    "name": "ipython",
    "version": 3
   },
   "file_extension": ".py",
   "mimetype": "text/x-python",
   "name": "python",
   "nbconvert_exporter": "python",
   "pygments_lexer": "ipython3",
   "version": "3.11.3"
  },
  "orig_nbformat": 4
 },
 "nbformat": 4,
 "nbformat_minor": 2
}
