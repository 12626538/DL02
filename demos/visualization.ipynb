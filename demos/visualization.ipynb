{
 "cells": [
  {
   "cell_type": "code",
   "execution_count": 4,
   "metadata": {},
   "outputs": [],
   "source": [
    "import math, torch, os, sys\n",
    "from e3nn.o3 import Irreps, spherical_harmonics, angles_to_xyz\n",
    "import plotly.graph_objects as go\n",
    "\n",
    "# for fixing relative import issues\n",
    "module_path = os.path.abspath(os.path.join('..'))\n",
    "if module_path not in sys.path:\n",
    "    sys.path.append(module_path)\n",
    "\n",
    "from src.atom3dutils import get_datasets"
   ]
  },
  {
   "attachments": {},
   "cell_type": "markdown",
   "metadata": {},
   "source": [
    "##### This cell contains some code for creating visualizations, feel free to skip over it"
   ]
  },
  {
   "cell_type": "code",
   "execution_count": 2,
   "metadata": {},
   "outputs": [],
   "source": [
    "axis = dict(\n",
    "    showbackground=False,\n",
    "    showticklabels=False,\n",
    "    showgrid=False,\n",
    "    zeroline=False,\n",
    "    title='',\n",
    ")\n",
    "\n",
    "layout = dict(\n",
    "    showlegend=False,\n",
    "    scene=dict(\n",
    "        aspectmode=\"data\",\n",
    "        xaxis=dict(\n",
    "            **axis,\n",
    "        ),\n",
    "        yaxis=dict(\n",
    "            **axis,\n",
    "        ),\n",
    "        zaxis=dict(\n",
    "            **axis,\n",
    "        ),\n",
    "    ),\n",
    "    paper_bgcolor=\"rgba(0,0,0,0)\",\n",
    "    plot_bgcolor=\"rgba(0,0,0,0)\",\n",
    "    margin=dict(l=0, r=0, t=0, b=0)\n",
    ")"
   ]
  },
  {
   "attachments": {},
   "cell_type": "markdown",
   "metadata": {},
   "source": [
    "### TODO: explanation of the functions below?"
   ]
  },
  {
   "cell_type": "code",
   "execution_count": 3,
   "metadata": {},
   "outputs": [],
   "source": [
    "def s2_grid(N=100):\n",
    "    \"\"\" Create grid on which we can sample spherical signals \"\"\"\n",
    "    betas = torch.linspace(0, math.pi, int(N/2))\n",
    "    alphas = torch.linspace(0, 2 * math.pi, N)\n",
    "    beta, alpha = torch.meshgrid(betas, alphas)\n",
    "    return angles_to_xyz(alpha, beta)\n",
    "\n",
    "def nodes_to_shs(f, irreps, grid):\n",
    "    \"\"\" Converts node features to irreps. \"\"\"\n",
    "    lmax = irreps.lmax\n",
    "    N = f.size(0)\n",
    "\n",
    "    assert len(f.shape) == 2, \"We expect [N, coefficients]\"\n",
    "    assert irreps == Irreps.spherical_harmonics(lmax), \"Irreps aren't SHs\"\n",
    "\n",
    "    shs = spherical_harmonics(irreps.ls, grid, normalize=True).unsqueeze(0).repeat(N, 1, 1, 1)\n",
    "    shs *= f.view(N, 1, 1, -1)\n",
    "    shs = shs.sum(-1)\n",
    "    return shs\n",
    "\n",
    "def plot_spherical_harmonics(f, positions, irreps, pos_factor=1, offset=0):\n",
    "    \"\"\" Plots feature vectors on molecule as spherical harmonics.\"\"\"\n",
    "    # Leave no trace\n",
    "    f, positions = f.clone(), positions.clone()\n",
    "\n",
    "    # Convert features to Spherical Harmonics\n",
    "    grid = s2_grid()\n",
    "    shs = nodes_to_shs(f, irreps, grid)\n",
    "\n",
    "    # Let's plot!\n",
    "    fig = go.Figure(layout=layout)\n",
    "\n",
    "    # Normalise\n",
    "    positions -= positions.min()\n",
    "    positions /= positions.max()\n",
    "    positions *= pos_factor\n",
    "\n",
    "    shs -= shs.min()\n",
    "    shs /= shs.max()\n",
    "    shs = shs*(1 - offset) + offset\n",
    "\n",
    "    cmin = offset\n",
    "    cmax = 1\n",
    "\n",
    "    # Plot nodes\n",
    "    for sh, pos in zip(shs, positions):\n",
    "        x = sh.abs() * grid[..., 0] + pos[0]\n",
    "        y = sh.abs() * grid[..., 1] + pos[1]\n",
    "        z = sh.abs() * grid[..., 2] + pos[2]\n",
    "\n",
    "        fig.add_trace(go.Surface(x=x, y=y, z=z, surfacecolor=sh, colorscale='RdBu_r', cmin=cmin, cmax=cmax))\n",
    "\n",
    "    # Add edges\n",
    "    for (pos_i, pos_j) in positions[graph.edge_index].transpose(1, 0):\n",
    "        d = dict(x=[pos_i[0], pos_j[0]],\n",
    "                 y=[pos_i[1], pos_j[1]],\n",
    "                 z=[pos_i[2], pos_j[2]])\n",
    "\n",
    "        fig.add_trace(go.Scatter3d(**d,\n",
    "                                   marker=dict(\n",
    "                                       size=0,\n",
    "                                   ),\n",
    "                                   line=dict(\n",
    "                                       color='black',\n",
    "                                       width=6,\n",
    "                                   ), opacity=0.1)\n",
    "                      )\n",
    "\n",
    "    fig.show()"
   ]
  },
  {
   "cell_type": "code",
   "execution_count": 21,
   "metadata": {},
   "outputs": [
    {
     "name": "stdout",
     "output_type": "stream",
     "text": [
      "torch.Size([551])\n"
     ]
    }
   ],
   "source": [
    "# takes the first protein of lba train dataset\n",
    "graph = get_datasets('LBA', data_dir='../atom3d-data/', lba_split=30)['train'][10] #  <- change this to choose another sample\n",
    "print(graph) # Print keys stored in first structure\n",
    "if len(graph.z.size()) == 1:\n",
    "    graph.z = graph.z.unsqueeze(1)\n",
    "irreps = Irreps(\"1x0e\")\n",
    "\n",
    "plot_spherical_harmonics(graph.z, graph.pos, irreps, pos_factor=15, offset=0.5)"
   ]
  }
 ],
 "metadata": {
  "kernelspec": {
   "display_name": "gvp",
   "language": "python",
   "name": "python3"
  },
  "language_info": {
   "codemirror_mode": {
    "name": "ipython",
    "version": 3
   },
   "file_extension": ".py",
   "mimetype": "text/x-python",
   "name": "python",
   "nbconvert_exporter": "python",
   "pygments_lexer": "ipython3",
   "version": "3.11.3"
  },
  "orig_nbformat": 4
 },
 "nbformat": 4,
 "nbformat_minor": 2
}
