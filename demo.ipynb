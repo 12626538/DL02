{
 "cells": [
  {
   "cell_type": "code",
   "execution_count": 2,
   "metadata": {},
   "outputs": [],
   "source": [
    "import unittest\n",
    "import gvp\n",
    "import matplotlib.pyplot as plt\n",
    "from steerable_mlp import *\n",
    "from scipy.spatial.transform import Rotation\n",
    "\n",
    "device = torch.device('cuda' if torch.cuda.is_available() else 'cpu')"
   ]
  },
  {
   "attachments": {},
   "cell_type": "markdown",
   "metadata": {},
   "source": [
    "# Testing Equivariance: Robustness in Protein Models with GVP\n",
    "\n",
    "Equivariance is the consistency of a model's output with regard to particular input transformations. When the output is unaffected by changes made to the input, a model is said to be equivariant. For example, in computer vision tasks, an equivariant model will produce consistent predictions regardless of the translation, rotation, or scaling applied to the input image. Verifying and quantifying equivariance to rotations is crucial to establish the reliability and robustness of models that analyze protein structures.\n",
    "\n",
    "In this demo, we investigate the equivariance to rotations of the GVP and our implementation of the steerable MLP. Our objective is to evaluate the robustness and consistency of the models' output when subjected to rotations.\n",
    "\n",
    "To do so, we first create random `300` random nodes, with each node having `100` scalar features and `16` vector features. The edges have `32` scalar features and `1` vector feature. We can randomly generate these node and edge features. Lastly, we define the edge index, which has the information about from where to which node an edge is going."
   ]
  },
  {
   "cell_type": "code",
   "execution_count": 4,
   "metadata": {},
   "outputs": [
    {
     "name": "stdout",
     "output_type": "stream",
     "text": [
      "Node scalar features torch.Size([300, 100])\n",
      "Node vector features torch.Size([300, 16, 3])\n",
      "Edge scalar features torch.Size([10000, 32])\n",
      "Edge vector features torch.Size([10000, 1, 3])\n",
      "Edge index torch.Size([2, 10000])\n"
     ]
    }
   ],
   "source": [
    "n_nodes = 300\n",
    "n_edges = 10000\n",
    "node_dim = (100, 16)\n",
    "edge_dim = (32, 1)\n",
    "\n",
    "nodes = gvp.randn(n_nodes, node_dim, device=device)\n",
    "edges = gvp.randn(n_edges, edge_dim, device=device)\n",
    "edge_index = torch.randint(0, n_nodes, (2, n_edges), device=device)\n",
    "\n",
    "print(\"Node scalar features\", nodes[0].shape)\n",
    "print(\"Node vector features\", nodes[1].shape)\n",
    "print(\"Edge scalar features\", edges[0].shape)\n",
    "print(\"Edge vector features\", edges[1].shape)\n",
    "print(\"Edge index\", edge_index.shape)"
   ]
  },
  {
   "attachments": {},
   "cell_type": "markdown",
   "metadata": {},
   "source": [
    "Now, let's enhance the clarity of the tests regarding our desired objectives. Our aim is to ensure that the scalar output features of the model remain unchanged under rotation, as scalars possess inherent rotation invariance. Additionally, we expect the vector features to exhibit rotation equivariance, implying that the model's output, after rotating the original vector input, should be identical to rotating the output obtained by passing the original vector input through the model. Or also in another representation:\n",
    "\n",
    "$$\\begin{align}\n",
    "\\text{Invariance:}   && \\text{model}(\\text{rotation}(\\text{scalars})) &= \\text{model}(\\text{scalars})         \\\\\n",
    "\\text{Equivariance:} && \\text{model}(\\text{rotation}(\\text{vectors})) &= \\text{rotation}(\\text{model}(\\text{vectors})).\n",
    "\\end{align}$$"
   ]
  },
  {
   "cell_type": "code",
   "execution_count": 5,
   "metadata": {},
   "outputs": [],
   "source": [
    "def test_equivariance_GVP(model, nodes, edges):\n",
    "    \n",
    "    random = torch.as_tensor(Rotation.random().as_matrix(), \n",
    "                             dtype=torch.float32, device=device)\n",
    "    \n",
    "    with torch.no_grad():\n",
    "    \n",
    "        out_s, out_v = model(nodes, edges)\n",
    "        n_v_rot, e_v_rot = nodes[1] @ random, edges[1] @ random\n",
    "        out_v_rot = out_v @ random\n",
    "        out_s_prime, out_v_prime = model((nodes[0], n_v_rot), (edges[0], e_v_rot))\n",
    "        \n",
    "        assert torch.allclose(out_s, out_s_prime, atol=1e-5, rtol=1e-4)\n",
    "        assert torch.allclose(out_v_rot, out_v_prime, atol=1e-5, rtol=1e-4)"
   ]
  },
  {
   "attachments": {},
   "cell_type": "markdown",
   "metadata": {},
   "source": [
    "Then, we define a class that has tests for the GVP, GVP with vector gating and GVP convolutional layer."
   ]
  },
  {
   "cell_type": "code",
   "execution_count": 6,
   "metadata": {},
   "outputs": [],
   "source": [
    "class EquivarianceTestGVP(unittest.TestCase):\n",
    "\n",
    "    \"\"\"\n",
    "    This is a class that tests whether the GVP with and without vector gating, and\n",
    "    the GVP convolutional layer are equivariant to rotation.\n",
    "    \"\"\"\n",
    "    \n",
    "    def test_gvp(self):\n",
    "        model = gvp.GVP(node_dim, node_dim).to(device).eval()\n",
    "        model_fn = lambda h_V, h_E: model(h_V)\n",
    "        test_equivariance_GVP(model_fn, nodes, edges)\n",
    "        \n",
    "    def test_gvp_vector_gate(self):\n",
    "        model = gvp.GVP(node_dim, node_dim, vector_gate=True).to(device).eval()\n",
    "        model_fn = lambda h_V, h_E: model(h_V)\n",
    "        test_equivariance_GVP(model_fn, nodes, edges)\n",
    "\n",
    "    def test_gvp_conv_layer_vector_gate(self):\n",
    "        model = gvp.GVPConvLayer(node_dim, edge_dim, vector_gate=True).to(device).eval()\n",
    "        model_fn = lambda h_V, h_E: model(h_V, edge_index, h_E,\n",
    "                                          autoregressive_x=h_V)\n",
    "        test_equivariance_GVP(model_fn, nodes, edges)"
   ]
  },
  {
   "cell_type": "code",
   "execution_count": 7,
   "metadata": {},
   "outputs": [
    {
     "name": "stderr",
     "output_type": "stream",
     "text": [
      "...\n",
      "----------------------------------------------------------------------\n",
      "Ran 3 tests in 0.226s\n",
      "\n",
      "OK\n"
     ]
    }
   ],
   "source": [
    "if __name__ == '__main__':\n",
    "    unittest.main(argv=['first-arg-is-ignored'], exit=False)"
   ]
  },
  {
   "attachments": {},
   "cell_type": "markdown",
   "metadata": {},
   "source": [
    "We can conclude from this test that he scalar features are indeed invariant to rotation and the vector features are equivariant to rotation."
   ]
  },
  {
   "attachments": {},
   "cell_type": "markdown",
   "metadata": {},
   "source": [
    "# Testing Equivariance: Robustness in Protein Models with steerable MLP\n",
    "\n",
    "Now we can perform the same tests using the steerable MLP. The only thing we will need to change is how the input is handled. Since the steerable MLP works with irreducible representations, we will first define these for the nodes, edges and output."
   ]
  },
  {
   "cell_type": "code",
   "execution_count": 8,
   "metadata": {},
   "outputs": [
    {
     "name": "stdout",
     "output_type": "stream",
     "text": [
      "Input irreps 10x0e+10x1e\n",
      "Edge irreps 32x0e+1x1o\n",
      "Output irreps 20x0e+10x1e\n",
      "Dim embedding irreps: 40\n"
     ]
    }
   ],
   "source": [
    "# Nodes are encoded using 10 scalars (type-0) and 10 geo vector (type-1)\n",
    "irreps_node = Irreps(\"10x0e+10x1e\")\n",
    "# Edges are encoded using 32 scalars and 1 geo vector (type-1)\n",
    "irreps_edge = Irreps(\"32x0e+1x1o\")\n",
    "# Output is 20 scalars (type-0) and 10 geo vector (type-1)\n",
    "irreps_out = Irreps(\"20x0e + 10x1e\")\n",
    "\n",
    "dim_emb = irreps_node.dim\n",
    "\n",
    "print(\"Input irreps\", irreps_node)\n",
    "print(\"Edge irreps\", irreps_edge)\n",
    "print(\"Output irreps\", irreps_out)\n",
    "print(\"Dim embedding irreps:\", dim_emb)"
   ]
  },
  {
   "attachments": {},
   "cell_type": "markdown",
   "metadata": {},
   "source": [
    "Create a random graph using random positions and edges"
   ]
  },
  {
   "cell_type": "code",
   "execution_count": 9,
   "metadata": {},
   "outputs": [],
   "source": [
    "# These are the positions of the nodes\n",
    "pos = torch.randn(size=(n_nodes,3))\n",
    "\n",
    "# Node embedding\n",
    "x = irreps_node.randn(n_nodes, -1)\n",
    "\n",
    "# How these nodes are connected (doesnt matter)\n",
    "edge_index = torch.randint(0, n_nodes, (2, n_edges), device=device)\n",
    "\n",
    "# All nodes are in this \"batch\" -> protein structure\n",
    "batch = torch.ones(size=(n_nodes,))\n",
    "\n",
    "# Edge features: vector from source to targer\n",
    "rel_pos = pos[edge_index[0]] - pos[edge_index[1]]\n",
    "\n",
    "# Edge features in Spherical Harmonics\n",
    "rel_pos_sh = o3.spherical_harmonics(irreps_edge, rel_pos, normalize=True)\n",
    "\n",
    "# Norm of the edge features\n",
    "dist = torch.linalg.vector_norm(rel_pos, dim=-1, keepdims=True)"
   ]
  },
  {
   "attachments": {},
   "cell_type": "markdown",
   "metadata": {},
   "source": [
    "The input is defined, so let's define the model, the convolutional layer that is equivariant to SE3 rotations. "
   ]
  },
  {
   "cell_type": "code",
   "execution_count": 10,
   "metadata": {},
   "outputs": [],
   "source": [
    "# Define model\n",
    "model = ConvLayerSE3(\n",
    "    irreps_node=irreps_node,\n",
    "    irreps_edge=irreps_edge,\n",
    "    irreps_out=irreps_out,\n",
    ")\n",
    "\n",
    "# Get the output of the random input\n",
    "out = model(edge_index, x, rel_pos_sh, dist)"
   ]
  },
  {
   "attachments": {},
   "cell_type": "markdown",
   "metadata": {},
   "source": [
    "Generate a random 3D rotation matrix and get the right representations for the input and output irreducible representations. We need to transform all the components of the representation independently, which we visualize using a matrix."
   ]
  },
  {
   "cell_type": "code",
   "execution_count": 11,
   "metadata": {},
   "outputs": [],
   "source": [
    "rot = o3.rand_matrix()\n",
    "D_in = irreps_node.D_from_matrix(rot)\n",
    "D_out = irreps_out.D_from_matrix(rot)"
   ]
  },
  {
   "cell_type": "code",
   "execution_count": 19,
   "metadata": {},
   "outputs": [
    {
     "data": {
      "image/png": "[encoded data removed]",
      "text/plain": [
       "<Figure size 640x480 with 2 Axes>"
      ]
     },
     "metadata": {},
     "output_type": "display_data"
    }
   ],
   "source": [
    "fig, (ax1, ax2) = plt.subplots(1,2)\n",
    "ax1.set_title(\"D_in\")\n",
    "ax1.imshow(D_in, cmap='bwr', vmin=-1, vmax=1)\n",
    "ax2.set_title(\"D_out\")\n",
    "ax2.imshow(D_out, cmap='bwr', vmin=-1, vmax=1);"
   ]
  },
  {
   "attachments": {},
   "cell_type": "markdown",
   "metadata": {},
   "source": [
    "A small example of how we can interpret this visualization is that our input irrep had 10 scalars and the output irrep had 20 scalars, which shows in the images above.\n",
    "\n",
    "Now, we can rotate the output of the steerable convolutional layer."
   ]
  },
  {
   "cell_type": "code",
   "execution_count": 10,
   "metadata": {},
   "outputs": [],
   "source": [
    "# Rotate after\n",
    "out_rot_after = out @ D_out.T"
   ]
  },
  {
   "attachments": {},
   "cell_type": "markdown",
   "metadata": {},
   "source": [
    "Or rotate the input of the steerable convolutional layer and rotate this output."
   ]
  },
  {
   "cell_type": "code",
   "execution_count": 11,
   "metadata": {},
   "outputs": [],
   "source": [
    "# Rotate before\n",
    "rel_pos_rot = rel_pos @ rot.T\n",
    "rel_pos_sh_rot = o3.spherical_harmonics(irreps_edge, rel_pos_rot, normalize=True)\n",
    "out_rot_before = model(edge_index, x @ D_in.T, rel_pos_sh_rot, dist)"
   ]
  },
  {
   "cell_type": "code",
   "execution_count": 12,
   "metadata": {},
   "outputs": [],
   "source": [
    "assert torch.allclose(out_rot_after, out_rot_before, rtol=1e-4, atol=1e-4, equal_nan=True)"
   ]
  },
  {
   "attachments": {},
   "cell_type": "markdown",
   "metadata": {},
   "source": [
    "From this, we can conclude that the model is equivariant to rotation."
   ]
  },
  {
   "attachments": {},
   "cell_type": "markdown",
   "metadata": {},
   "source": [
    "# Testing the models\n",
    "We can test the performance of trained models by loading the weights that gave the best performance whilst training."
   ]
  },
  {
   "cell_type": "code",
   "execution_count": 13,
   "metadata": {},
   "outputs": [
    {
     "ename": "",
     "evalue": "",
     "output_type": "error",
     "traceback": [
      "\u001b[1;31mCanceled future for execute_request message before replies were done"
     ]
    },
    {
     "ename": "",
     "evalue": "",
     "output_type": "error",
     "traceback": [
      "\u001b[1;31mThe Kernel crashed while executing code in the the current cell or a previous cell. Please review the code in the cell(s) to identify a possible cause of the failure. Click <a href='https://aka.ms/vscodeJupyterKernelCrash'>here</a> for more info. View Jupyter <a href='command:jupyter.viewOutput'>log</a> for further details."
     ]
    }
   ],
   "source": [
    "# Change the path to the best models and data respectively\n",
    "\n",
    "%run run_atom3d.py LBA --test best_models/LBA_lba-split=30_47.pt --lba-split 30 --data ../atom3d-data/\n",
    "%run run_atom3d.py LBA --test best_models/LBA_lba-split=60_49.pt --lba-split 60 --data ../atom3d-data/\n",
    "\n",
    "%run run_atom3d.py SMP --test best_models/SMP_smp-idx=3_46.pt --smp-idx 3 --data ../atom3d-data/\n",
    "%run run_atom3d.py SMP --test best_models/SMP_smp-idx=7_48.pt --smp-idx 7 --data ../atom3d-data/\n",
    "%run run_atom3d.py SMP --test best_models/SMP_smp-idx=15_48.pt --smp-idx 15 --data ../atom3d-data/\n",
    "\n",
    "%run run_atom3d.py MSP --test best_models/MSP_batchsize1_oom6times_epoch6.pt --data ../atom3d-data/\n",
    "\n",
    "%run run_atom3d.py PSR --test best_models/PSR_1683708337.4682121_45.pt --data ../atom3d-data/\n",
    "\n",
    "%run run_atom3d.py RES --test best_models/RES_22.pt --data ../atom3d-data/"
   ]
  },
  {
   "attachments": {},
   "cell_type": "markdown",
   "metadata": {},
   "source": []
  }
 ],
 "metadata": {
  "kernelspec": {
   "display_name": "dl2",
   "language": "python",
   "name": "python3"
  },
  "language_info": {
   "codemirror_mode": {
    "name": "ipython",
    "version": 3
   },
   "file_extension": ".py",
   "mimetype": "text/x-python",
   "name": "python",
   "nbconvert_exporter": "python",
   "pygments_lexer": "ipython3",
   "version": "3.11.3"
  },
  "orig_nbformat": 4
 },
 "nbformat": 4,
 "nbformat_minor": 2
}
